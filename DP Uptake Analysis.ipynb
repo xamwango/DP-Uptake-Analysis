{
 "cells": [
  {
   "cell_type": "markdown",
   "id": "cc5bd807-21fd-4d5c-9d8c-d37c4f6b3c57",
   "metadata": {},
   "source": [
    "# Importing Necessary Libraries for Analysis\n"
   ]
  },
  {
   "cell_type": "code",
   "execution_count": 40,
   "id": "106a618a-1213-422f-83cc-072d34e3ebe2",
   "metadata": {},
   "outputs": [],
   "source": [
    "import pandas as pd  # Data manipulation\n",
    "import numpy as np  # Numerical operations\n",
    "import matplotlib.pyplot as plt  # Plotting\n",
    "import seaborn as sns  # Statistical visualizations\n",
    "\n"
   ]
  },
  {
   "cell_type": "markdown",
   "id": "aaae060b-903d-48e8-8f38-dc60f555ddf0",
   "metadata": {},
   "source": [
    "### Loading the Data set"
   ]
  },
  {
   "cell_type": "code",
   "execution_count": 41,
   "id": "5f5d9b66-4d18-430b-908c-628ddc06bfdf",
   "metadata": {},
   "outputs": [],
   "source": [
    "df = pd.read_csv(\"data.csv\")  \n"
   ]
  },
  {
   "cell_type": "markdown",
   "id": "8aa5e911-6e94-4b7c-ae2c-a4776b20e7ed",
   "metadata": {},
   "source": [
    "### Checking the Data Structure"
   ]
  },
  {
   "cell_type": "code",
   "execution_count": 42,
   "id": "042f9e35-0d51-4f74-92fb-2a794239c838",
   "metadata": {},
   "outputs": [
    {
     "data": {
      "text/html": [
       "<div>\n",
       "<style scoped>\n",
       "    .dataframe tbody tr th:only-of-type {\n",
       "        vertical-align: middle;\n",
       "    }\n",
       "\n",
       "    .dataframe tbody tr th {\n",
       "        vertical-align: top;\n",
       "    }\n",
       "\n",
       "    .dataframe thead th {\n",
       "        text-align: right;\n",
       "    }\n",
       "</style>\n",
       "<table border=\"1\" class=\"dataframe\">\n",
       "  <thead>\n",
       "    <tr style=\"text-align: right;\">\n",
       "      <th></th>\n",
       "      <th>clientsid</th>\n",
       "      <th>Gender</th>\n",
       "      <th>CountyOfBirth</th>\n",
       "      <th>Age</th>\n",
       "      <th>EntryPoint</th>\n",
       "      <th>ReferredOrTransferredFrom</th>\n",
       "      <th>InitialVisitDate</th>\n",
       "      <th>BP</th>\n",
       "      <th>Weight_</th>\n",
       "      <th>Height</th>\n",
       "      <th>SignOfSti</th>\n",
       "      <th>Lmp</th>\n",
       "      <th>Cluster</th>\n",
       "      <th>FacilityType</th>\n",
       "      <th>Received_DP</th>\n",
       "      <th>Refill1month</th>\n",
       "      <th>Refill2months</th>\n",
       "      <th>Refill3months</th>\n",
       "      <th>Refill6months</th>\n",
       "      <th>received_counseling</th>\n",
       "    </tr>\n",
       "  </thead>\n",
       "  <tbody>\n",
       "    <tr>\n",
       "      <th>0</th>\n",
       "      <td>10269-07-1/18</td>\n",
       "      <td>M</td>\n",
       "      <td>Kisii</td>\n",
       "      <td>38</td>\n",
       "      <td>Referred</td>\n",
       "      <td>VCT Site</td>\n",
       "      <td>2018-03-14</td>\n",
       "      <td>113/82</td>\n",
       "      <td>68.0</td>\n",
       "      <td>172.0</td>\n",
       "      <td>No</td>\n",
       "      <td>1900-01-01</td>\n",
       "      <td>Nairobi</td>\n",
       "      <td>Public</td>\n",
       "      <td>1</td>\n",
       "      <td>1</td>\n",
       "      <td>1</td>\n",
       "      <td>1</td>\n",
       "      <td>1</td>\n",
       "      <td>0</td>\n",
       "    </tr>\n",
       "    <tr>\n",
       "      <th>1</th>\n",
       "      <td>10269-07-2/18</td>\n",
       "      <td>F</td>\n",
       "      <td>Meru</td>\n",
       "      <td>44</td>\n",
       "      <td>Referred</td>\n",
       "      <td>VCT Site</td>\n",
       "      <td>2018-04-11</td>\n",
       "      <td>120/84</td>\n",
       "      <td>102.0</td>\n",
       "      <td>168.0</td>\n",
       "      <td>No</td>\n",
       "      <td>1900-01-01</td>\n",
       "      <td>Nairobi</td>\n",
       "      <td>Public</td>\n",
       "      <td>1</td>\n",
       "      <td>1</td>\n",
       "      <td>1</td>\n",
       "      <td>1</td>\n",
       "      <td>0</td>\n",
       "      <td>1</td>\n",
       "    </tr>\n",
       "    <tr>\n",
       "      <th>2</th>\n",
       "      <td>10269-07-3/18</td>\n",
       "      <td>M</td>\n",
       "      <td>Kiambu</td>\n",
       "      <td>40</td>\n",
       "      <td>Referred</td>\n",
       "      <td>Outreach</td>\n",
       "      <td>2018-04-04</td>\n",
       "      <td>113/84</td>\n",
       "      <td>0.0</td>\n",
       "      <td>0.0</td>\n",
       "      <td>No</td>\n",
       "      <td>1900-01-01</td>\n",
       "      <td>Nairobi</td>\n",
       "      <td>Public</td>\n",
       "      <td>1</td>\n",
       "      <td>1</td>\n",
       "      <td>1</td>\n",
       "      <td>1</td>\n",
       "      <td>0</td>\n",
       "      <td>1</td>\n",
       "    </tr>\n",
       "    <tr>\n",
       "      <th>3</th>\n",
       "      <td>10269-07-4/18</td>\n",
       "      <td>M</td>\n",
       "      <td>Bungoma</td>\n",
       "      <td>24</td>\n",
       "      <td>Referred</td>\n",
       "      <td>VCT Site</td>\n",
       "      <td>2018-04-11</td>\n",
       "      <td>000/00</td>\n",
       "      <td>0.0</td>\n",
       "      <td>0.0</td>\n",
       "      <td>No</td>\n",
       "      <td>1900-01-01</td>\n",
       "      <td>Nairobi</td>\n",
       "      <td>Public</td>\n",
       "      <td>1</td>\n",
       "      <td>1</td>\n",
       "      <td>1</td>\n",
       "      <td>0</td>\n",
       "      <td>0</td>\n",
       "      <td>1</td>\n",
       "    </tr>\n",
       "    <tr>\n",
       "      <th>4</th>\n",
       "      <td>10269-07-5/18</td>\n",
       "      <td>F</td>\n",
       "      <td>Kiambu</td>\n",
       "      <td>31</td>\n",
       "      <td>Referred</td>\n",
       "      <td>VCT Site</td>\n",
       "      <td>2018-05-13</td>\n",
       "      <td>000/00</td>\n",
       "      <td>75.5</td>\n",
       "      <td>759.5</td>\n",
       "      <td>No</td>\n",
       "      <td>2018-04-01</td>\n",
       "      <td>Nairobi</td>\n",
       "      <td>Public</td>\n",
       "      <td>1</td>\n",
       "      <td>1</td>\n",
       "      <td>0</td>\n",
       "      <td>0</td>\n",
       "      <td>0</td>\n",
       "      <td>1</td>\n",
       "    </tr>\n",
       "  </tbody>\n",
       "</table>\n",
       "</div>"
      ],
      "text/plain": [
       "       clientsid Gender CountyOfBirth  Age EntryPoint  \\\n",
       "0  10269-07-1/18      M         Kisii   38   Referred   \n",
       "1  10269-07-2/18      F          Meru   44   Referred   \n",
       "2  10269-07-3/18      M        Kiambu   40   Referred   \n",
       "3  10269-07-4/18      M       Bungoma   24   Referred   \n",
       "4  10269-07-5/18      F        Kiambu   31   Referred   \n",
       "\n",
       "  ReferredOrTransferredFrom InitialVisitDate      BP  Weight_  Height  \\\n",
       "0                  VCT Site       2018-03-14  113/82     68.0   172.0   \n",
       "1                  VCT Site       2018-04-11  120/84    102.0   168.0   \n",
       "2                  Outreach       2018-04-04  113/84      0.0     0.0   \n",
       "3                  VCT Site       2018-04-11  000/00      0.0     0.0   \n",
       "4                  VCT Site       2018-05-13  000/00     75.5   759.5   \n",
       "\n",
       "  SignOfSti         Lmp  Cluster FacilityType  Received_DP  Refill1month  \\\n",
       "0        No  1900-01-01  Nairobi       Public            1             1   \n",
       "1        No  1900-01-01  Nairobi       Public            1             1   \n",
       "2        No  1900-01-01  Nairobi       Public            1             1   \n",
       "3        No  1900-01-01  Nairobi       Public            1             1   \n",
       "4        No  2018-04-01  Nairobi       Public            1             1   \n",
       "\n",
       "   Refill2months  Refill3months  Refill6months  received_counseling  \n",
       "0              1              1              1                    0  \n",
       "1              1              1              0                    1  \n",
       "2              1              1              0                    1  \n",
       "3              1              0              0                    1  \n",
       "4              0              0              0                    1  "
      ]
     },
     "execution_count": 42,
     "metadata": {},
     "output_type": "execute_result"
    }
   ],
   "source": [
    "# Display first 5 rows\n",
    "df.head()\n"
   ]
  },
  {
   "cell_type": "code",
   "execution_count": 43,
   "id": "306b2bb6-c7d7-40a3-9ec0-fdf5aeeb4d29",
   "metadata": {},
   "outputs": [
    {
     "name": "stdout",
     "output_type": "stream",
     "text": [
      "<class 'pandas.core.frame.DataFrame'>\n",
      "RangeIndex: 22131 entries, 0 to 22130\n",
      "Data columns (total 20 columns):\n",
      " #   Column                     Non-Null Count  Dtype  \n",
      "---  ------                     --------------  -----  \n",
      " 0   clientsid                  22131 non-null  object \n",
      " 1   Gender                     22131 non-null  object \n",
      " 2   CountyOfBirth              22131 non-null  object \n",
      " 3   Age                        22131 non-null  int64  \n",
      " 4   EntryPoint                 22131 non-null  object \n",
      " 5   ReferredOrTransferredFrom  22131 non-null  object \n",
      " 6   InitialVisitDate           22131 non-null  object \n",
      " 7   BP                         21824 non-null  object \n",
      " 8   Weight_                    22014 non-null  float64\n",
      " 9   Height                     22014 non-null  float64\n",
      " 10  SignOfSti                  22014 non-null  object \n",
      " 11  Lmp                        22014 non-null  object \n",
      " 12  Cluster                    22131 non-null  object \n",
      " 13  FacilityType               22131 non-null  object \n",
      " 14  Received_DP                22131 non-null  int64  \n",
      " 15  Refill1month               22131 non-null  int64  \n",
      " 16  Refill2months              22131 non-null  int64  \n",
      " 17  Refill3months              22131 non-null  int64  \n",
      " 18  Refill6months              22131 non-null  int64  \n",
      " 19  received_counseling        22131 non-null  int64  \n",
      "dtypes: float64(2), int64(7), object(11)\n",
      "memory usage: 3.4+ MB\n"
     ]
    }
   ],
   "source": [
    "# Display column names and data types\n",
    "df.info()\n"
   ]
  },
  {
   "cell_type": "code",
   "execution_count": 44,
   "id": "53dbdc10-7de8-4fbf-b688-facc4d51fedd",
   "metadata": {},
   "outputs": [
    {
     "data": {
      "text/html": [
       "<div>\n",
       "<style scoped>\n",
       "    .dataframe tbody tr th:only-of-type {\n",
       "        vertical-align: middle;\n",
       "    }\n",
       "\n",
       "    .dataframe tbody tr th {\n",
       "        vertical-align: top;\n",
       "    }\n",
       "\n",
       "    .dataframe thead th {\n",
       "        text-align: right;\n",
       "    }\n",
       "</style>\n",
       "<table border=\"1\" class=\"dataframe\">\n",
       "  <thead>\n",
       "    <tr style=\"text-align: right;\">\n",
       "      <th></th>\n",
       "      <th>Age</th>\n",
       "      <th>Weight_</th>\n",
       "      <th>Height</th>\n",
       "      <th>Received_DP</th>\n",
       "      <th>Refill1month</th>\n",
       "      <th>Refill2months</th>\n",
       "      <th>Refill3months</th>\n",
       "      <th>Refill6months</th>\n",
       "      <th>received_counseling</th>\n",
       "    </tr>\n",
       "  </thead>\n",
       "  <tbody>\n",
       "    <tr>\n",
       "      <th>count</th>\n",
       "      <td>22131.000000</td>\n",
       "      <td>22014.000000</td>\n",
       "      <td>2.201400e+04</td>\n",
       "      <td>22131.0</td>\n",
       "      <td>22131.000000</td>\n",
       "      <td>22131.000000</td>\n",
       "      <td>22131.000000</td>\n",
       "      <td>22131.000000</td>\n",
       "      <td>22131.000000</td>\n",
       "    </tr>\n",
       "    <tr>\n",
       "      <th>mean</th>\n",
       "      <td>27.284804</td>\n",
       "      <td>76.109112</td>\n",
       "      <td>1.907873e+02</td>\n",
       "      <td>1.0</td>\n",
       "      <td>0.476210</td>\n",
       "      <td>0.275857</td>\n",
       "      <td>0.178844</td>\n",
       "      <td>0.065926</td>\n",
       "      <td>0.521034</td>\n",
       "    </tr>\n",
       "    <tr>\n",
       "      <th>std</th>\n",
       "      <td>10.644699</td>\n",
       "      <td>1201.812775</td>\n",
       "      <td>1.063263e+04</td>\n",
       "      <td>0.0</td>\n",
       "      <td>0.499445</td>\n",
       "      <td>0.446955</td>\n",
       "      <td>0.383230</td>\n",
       "      <td>0.248158</td>\n",
       "      <td>0.499569</td>\n",
       "    </tr>\n",
       "    <tr>\n",
       "      <th>min</th>\n",
       "      <td>15.000000</td>\n",
       "      <td>0.000000</td>\n",
       "      <td>0.000000e+00</td>\n",
       "      <td>1.0</td>\n",
       "      <td>0.000000</td>\n",
       "      <td>0.000000</td>\n",
       "      <td>0.000000</td>\n",
       "      <td>0.000000</td>\n",
       "      <td>0.000000</td>\n",
       "    </tr>\n",
       "    <tr>\n",
       "      <th>25%</th>\n",
       "      <td>22.000000</td>\n",
       "      <td>50.000000</td>\n",
       "      <td>0.000000e+00</td>\n",
       "      <td>1.0</td>\n",
       "      <td>0.000000</td>\n",
       "      <td>0.000000</td>\n",
       "      <td>0.000000</td>\n",
       "      <td>0.000000</td>\n",
       "      <td>0.000000</td>\n",
       "    </tr>\n",
       "    <tr>\n",
       "      <th>50%</th>\n",
       "      <td>25.000000</td>\n",
       "      <td>60.000000</td>\n",
       "      <td>1.560000e+02</td>\n",
       "      <td>1.0</td>\n",
       "      <td>0.000000</td>\n",
       "      <td>0.000000</td>\n",
       "      <td>0.000000</td>\n",
       "      <td>0.000000</td>\n",
       "      <td>1.000000</td>\n",
       "    </tr>\n",
       "    <tr>\n",
       "      <th>75%</th>\n",
       "      <td>31.000000</td>\n",
       "      <td>68.000000</td>\n",
       "      <td>1.640000e+02</td>\n",
       "      <td>1.0</td>\n",
       "      <td>1.000000</td>\n",
       "      <td>1.000000</td>\n",
       "      <td>0.000000</td>\n",
       "      <td>0.000000</td>\n",
       "      <td>1.000000</td>\n",
       "    </tr>\n",
       "    <tr>\n",
       "      <th>max</th>\n",
       "      <td>544.000000</td>\n",
       "      <td>79174.000000</td>\n",
       "      <td>1.560000e+06</td>\n",
       "      <td>1.0</td>\n",
       "      <td>1.000000</td>\n",
       "      <td>1.000000</td>\n",
       "      <td>1.000000</td>\n",
       "      <td>1.000000</td>\n",
       "      <td>1.000000</td>\n",
       "    </tr>\n",
       "  </tbody>\n",
       "</table>\n",
       "</div>"
      ],
      "text/plain": [
       "                Age       Weight_        Height  Received_DP  Refill1month  \\\n",
       "count  22131.000000  22014.000000  2.201400e+04      22131.0  22131.000000   \n",
       "mean      27.284804     76.109112  1.907873e+02          1.0      0.476210   \n",
       "std       10.644699   1201.812775  1.063263e+04          0.0      0.499445   \n",
       "min       15.000000      0.000000  0.000000e+00          1.0      0.000000   \n",
       "25%       22.000000     50.000000  0.000000e+00          1.0      0.000000   \n",
       "50%       25.000000     60.000000  1.560000e+02          1.0      0.000000   \n",
       "75%       31.000000     68.000000  1.640000e+02          1.0      1.000000   \n",
       "max      544.000000  79174.000000  1.560000e+06          1.0      1.000000   \n",
       "\n",
       "       Refill2months  Refill3months  Refill6months  received_counseling  \n",
       "count   22131.000000   22131.000000   22131.000000         22131.000000  \n",
       "mean        0.275857       0.178844       0.065926             0.521034  \n",
       "std         0.446955       0.383230       0.248158             0.499569  \n",
       "min         0.000000       0.000000       0.000000             0.000000  \n",
       "25%         0.000000       0.000000       0.000000             0.000000  \n",
       "50%         0.000000       0.000000       0.000000             1.000000  \n",
       "75%         1.000000       0.000000       0.000000             1.000000  \n",
       "max         1.000000       1.000000       1.000000             1.000000  "
      ]
     },
     "execution_count": 44,
     "metadata": {},
     "output_type": "execute_result"
    }
   ],
   "source": [
    "# Summary statistics for numerical columns\n",
    "df.describe()\n"
   ]
  },
  {
   "cell_type": "markdown",
   "id": "b67e0f29-aa7b-4efc-92d3-fd2650820359",
   "metadata": {},
   "source": [
    "### Handling Missing Values"
   ]
  },
  {
   "cell_type": "markdown",
   "id": "107d33bf-1895-4c1f-b3da-384256b9ab29",
   "metadata": {},
   "source": [
    "#### Cheking for missing values"
   ]
  },
  {
   "cell_type": "code",
   "execution_count": 45,
   "id": "0053d5e0-feb4-4335-9e4e-5bae8e028762",
   "metadata": {},
   "outputs": [
    {
     "data": {
      "text/plain": [
       "clientsid                      0\n",
       "Gender                         0\n",
       "CountyOfBirth                  0\n",
       "Age                            0\n",
       "EntryPoint                     0\n",
       "ReferredOrTransferredFrom      0\n",
       "InitialVisitDate               0\n",
       "BP                           307\n",
       "Weight_                      117\n",
       "Height                       117\n",
       "SignOfSti                    117\n",
       "Lmp                          117\n",
       "Cluster                        0\n",
       "FacilityType                   0\n",
       "Received_DP                    0\n",
       "Refill1month                   0\n",
       "Refill2months                  0\n",
       "Refill3months                  0\n",
       "Refill6months                  0\n",
       "received_counseling            0\n",
       "dtype: int64"
      ]
     },
     "execution_count": 45,
     "metadata": {},
     "output_type": "execute_result"
    }
   ],
   "source": [
    "df.isnull().sum()\n"
   ]
  },
  {
   "cell_type": "markdown",
   "id": "0e6cdfe7-2f69-4e0d-9072-beb822fd2d00",
   "metadata": {},
   "source": [
    "#### Dropping missing values"
   ]
  },
  {
   "cell_type": "code",
   "execution_count": 46,
   "id": "8a359465-33f3-4e38-a927-8cf8162fafdc",
   "metadata": {},
   "outputs": [],
   "source": [
    "\n",
    "df.dropna(inplace=True)  # Drop rows with missing values\n"
   ]
  },
  {
   "cell_type": "code",
   "execution_count": 47,
   "id": "47568b3e-ce6d-4e39-ad69-cce45716bb1d",
   "metadata": {},
   "outputs": [
    {
     "data": {
      "text/plain": [
       "clientsid                    0\n",
       "Gender                       0\n",
       "CountyOfBirth                0\n",
       "Age                          0\n",
       "EntryPoint                   0\n",
       "ReferredOrTransferredFrom    0\n",
       "InitialVisitDate             0\n",
       "BP                           0\n",
       "Weight_                      0\n",
       "Height                       0\n",
       "SignOfSti                    0\n",
       "Lmp                          0\n",
       "Cluster                      0\n",
       "FacilityType                 0\n",
       "Received_DP                  0\n",
       "Refill1month                 0\n",
       "Refill2months                0\n",
       "Refill3months                0\n",
       "Refill6months                0\n",
       "received_counseling          0\n",
       "dtype: int64"
      ]
     },
     "execution_count": 47,
     "metadata": {},
     "output_type": "execute_result"
    }
   ],
   "source": [
    "#confirming the missing values have been dropped\n",
    "df.isnull().sum()\n"
   ]
  },
  {
   "cell_type": "markdown",
   "id": "49af9bc0-a1b0-45c1-889d-6622f440ef65",
   "metadata": {},
   "source": [
    "### Handling Duplicates"
   ]
  },
  {
   "cell_type": "markdown",
   "id": "8be5eb18-bbb0-40d0-bab0-c394040175f0",
   "metadata": {},
   "source": [
    "#### cheking for Duplicates"
   ]
  },
  {
   "cell_type": "code",
   "execution_count": 48,
   "id": "1d3f9a28-dd9e-4be1-a614-2708c95aab25",
   "metadata": {},
   "outputs": [
    {
     "data": {
      "text/plain": [
       "0"
      ]
     },
     "execution_count": 48,
     "metadata": {},
     "output_type": "execute_result"
    }
   ],
   "source": [
    "df.duplicated().sum()  # Count duplicates\n",
    "\n"
   ]
  },
  {
   "cell_type": "markdown",
   "id": "f2fb66a1-b21a-41a5-a6ec-3605f1a04681",
   "metadata": {},
   "source": [
    "### Handling Outliers"
   ]
  },
  {
   "cell_type": "code",
   "execution_count": 10,
   "id": "582fc215-aa61-4f4d-a25f-483eae41cf8c",
   "metadata": {},
   "outputs": [],
   "source": [
    "# Function to remove outliers using IQR\n",
    "def remove_outliers(df, column):\n",
    "    Q1 = df[column].quantile(0.25)\n",
    "    Q3 = df[column].quantile(0.75)\n",
    "    IQR = Q3 - Q1\n",
    "    lower_bound = Q1 - 1.5 * IQR\n",
    "    upper_bound = Q3 + 1.5 * IQR\n",
    "    return df[(df[column] >= lower_bound) & (df[column] <= upper_bound)]\n",
    "\n",
    "# Apply to relevant numeric columns\n",
    "df = remove_outliers(df, 'Age')\n",
    "df = remove_outliers(df, 'Height')\n",
    "df = remove_outliers(df, 'Weight_')\n",
    "\n"
   ]
  },
  {
   "cell_type": "markdown",
   "id": "5cb76895-2347-4efa-8e62-809917daaea6",
   "metadata": {},
   "source": [
    "### Analysis How Counselling has impacted the Continuation Uptake of the DP pill"
   ]
  },
  {
   "cell_type": "markdown",
   "id": "3cb7bee6-925f-444e-81c4-2b9073044683",
   "metadata": {},
   "source": [
    "#### All patients"
   ]
  },
  {
   "cell_type": "code",
   "execution_count": 39,
   "id": "5504562a-1c20-423a-a9cb-88931d4882e7",
   "metadata": {},
   "outputs": [
    {
     "name": "stdout",
     "output_type": "stream",
     "text": [
      "Number of patients at each level of DP uptake\n",
      "Received_DP      17101\n",
      "Refill1month      8218\n",
      "Refill2months     4742\n",
      "Refill3months     3100\n",
      "Refill6months     1145\n",
      "dtype: int64\n",
      "Average refill rates for all patients:\n",
      "Received_DP      1.000000\n",
      "Refill1month     0.480557\n",
      "Refill2months    0.277294\n",
      "Refill3months    0.181276\n",
      "Refill6months    0.066955\n",
      "dtype: float64\n"
     ]
    },
    {
     "data": {
      "image/png": "[encoded data removed]",
      "text/plain": [
       "<Figure size 1000x600 with 1 Axes>"
      ]
     },
     "metadata": {},
     "output_type": "display_data"
    }
   ],
   "source": [
    "# columns in consideration\n",
    "columns_to_average = ['Received_DP','Refill1month', 'Refill2months', 'Refill3months', 'Refill6months']\n",
    "\n",
    "# Total number of patients at each refill stage\n",
    "All_Patients = df[columns_to_average].sum()\n",
    "\n",
    "# Average refill rates for all patients \n",
    "Average_Refill_Rates = df[columns_to_average].mean()\n",
    "\n",
    "\n",
    "print('Number of patients at each level of DP uptake')\n",
    "print(All_Patients)\n",
    "print(\"Average refill rates for all patients:\")\n",
    "print(Average_Refill_Rates)\n",
    "\n",
    "# plotting a Bar graph to give a better understanding of continuation rates\n",
    "plt.figure(figsize=(10, 6))\n",
    "Average_Refill_Rates.plot(kind='bar', color=['lightgreen','skyblue', 'orange', 'lightcoral', 'crimson'])\n",
    "plt.title('Continuation Rates Over Time for All Patients', fontsize=16)\n",
    "plt.xlabel('Refill Period', fontsize=14)\n",
    "plt.ylabel('Average Refill Rate', fontsize=14)\n",
    "plt.xticks(rotation=0)\n",
    "plt.grid(axis='y', linestyle='--', alpha=0.7)\n",
    "plt.show()"
   ]
  },
  {
   "cell_type": "markdown",
   "id": "7282ca07-82ee-4247-8e2a-94f1cb0179fc",
   "metadata": {},
   "source": [
    "\n",
    "#### Patients who received counselling\n"
   ]
  },
  {
   "cell_type": "code",
   "execution_count": 49,
   "id": "6d245e9e-c1d7-4323-84d3-e23ef77b4ba9",
   "metadata": {},
   "outputs": [
    {
     "name": "stdout",
     "output_type": "stream",
     "text": [
      "Number of patients who received counselling at each level of DP uptake\n",
      "Received_DP      11375\n",
      "Refill1month      5973\n",
      "Refill2months     3743\n",
      "Refill3months     2633\n",
      "Refill6months     1299\n",
      "dtype: int64\n",
      "Average refill rates for patients who received counselling:\n",
      "Received_DP      1.000000\n",
      "Refill1month     0.525099\n",
      "Refill2months    0.329055\n",
      "Refill3months    0.231473\n",
      "Refill6months    0.114198\n",
      "dtype: float64\n"
     ]
    },
    {
     "data": {
      "image/png": "[encoded data removed]",
      "text/plain": [
       "<Figure size 1000x600 with 1 Axes>"
      ]
     },
     "metadata": {},
     "output_type": "display_data"
    }
   ],
   "source": [
    "# Filtering the data set only to have those who received counselling\n",
    "Received_df = df[df['received_counseling'] == 1]\n",
    "\n",
    "# Total number of patients who received counselling at each refill stage\n",
    "Patients_R = Received_df[columns_to_average].sum()\n",
    "\n",
    "# Average refill rates for patients who received counselling\n",
    "Average_Refill_Rates_R = Received_df[columns_to_average].mean()\n",
    "\n",
    "print('Number of patients who received counselling at each level of DP uptake')\n",
    "print(Patients_R)\n",
    "print(\"Average refill rates for patients who received counselling:\")\n",
    "print(Average_Refill_Rates_R)\n",
    "\n",
    "# plotting a Bar graph to give a better understanding of continuation rates\n",
    "plt.figure(figsize=(10, 6))\n",
    "Average_Refill_Rates_R.plot(kind='bar', color=['lightgreen','skyblue', 'orange', 'lightcoral', 'crimson'])\n",
    "plt.title('Continuation Rates Over Time for Patients who received counselling', fontsize=16)\n",
    "plt.xlabel('Refill Period', fontsize=14)\n",
    "plt.ylabel('Average Refill Rate', fontsize=14)\n",
    "plt.xticks(rotation=0)\n",
    "plt.grid(axis='y', linestyle='--', alpha=0.7)\n",
    "plt.show()"
   ]
  },
  {
   "cell_type": "markdown",
   "id": "c926b5a8-02f0-4e3a-b5f5-2e1934f7340c",
   "metadata": {},
   "source": [
    "#### Patients who never received counselling"
   ]
  },
  {
   "cell_type": "code",
   "execution_count": 50,
   "id": "77d170a5-18de-4c95-8251-cb39e92e3a62",
   "metadata": {},
   "outputs": [
    {
     "name": "stdout",
     "output_type": "stream",
     "text": [
      "Number of patients who never received counselling at each level of DP uptake\n",
      "Received_DP      10449\n",
      "Refill1month      4473\n",
      "Refill2months     2307\n",
      "Refill3months     1287\n",
      "Refill6months      145\n",
      "dtype: int64\n",
      "Average refill rates for patients who never received counselling:\n",
      "Received_DP      1.000000\n",
      "Refill1month     0.428079\n",
      "Refill2months    0.220787\n",
      "Refill3months    0.123170\n",
      "Refill6months    0.013877\n",
      "dtype: float64\n"
     ]
    },
    {
     "data": {
      "image/png": "[encoded data removed]",
      "text/plain": [
       "<Figure size 1000x600 with 1 Axes>"
      ]
     },
     "metadata": {},
     "output_type": "display_data"
    }
   ],
   "source": [
    "# Filtering the data set only to have patients who never received counselling\n",
    "Never_Received_df = df[df['received_counseling'] == 0]\n",
    "\n",
    "# Total number of patients who never received counselling at each refill stage\n",
    "Patients_NR = Never_Received_df[columns_to_average].sum()\n",
    "\n",
    "# Average refill rates for patients who never received counselling\n",
    "Average_Refill_Rates_NR = Never_Received_df[columns_to_average].mean()\n",
    "\n",
    "print('Number of patients who never received counselling at each level of DP uptake')\n",
    "print(Patients_NR)\n",
    "print(\"Average refill rates for patients who never received counselling:\")\n",
    "print(Average_Refill_Rates_NR)\n",
    "\n",
    "# plotting a Bar graph to give a better understanding of continuation rates\n",
    "plt.figure(figsize=(10, 6))\n",
    "Average_Refill_Rates_NR.plot(kind='bar', color=['lightgreen','skyblue', 'orange', 'lightcoral', 'crimson'])\n",
    "plt.title('Continuation Rates Over Time for Patients who never received counselling', fontsize=16)\n",
    "plt.xlabel('Refill Period', fontsize=14)\n",
    "plt.ylabel('Average Refill Rate', fontsize=14)\n",
    "plt.xticks(rotation=0)\n",
    "plt.grid(axis='y', linestyle='--', alpha=0.7)\n",
    "plt.show()"
   ]
  },
  {
   "cell_type": "markdown",
   "id": "e8c03a58-d5a1-4896-bde3-cee9eeaa1b0e",
   "metadata": {},
   "source": [
    "### Analysis How Gender has impacted the Continuation Uptake of the DP pill\n",
    "#### Males"
   ]
  },
  {
   "cell_type": "code",
   "execution_count": 51,
   "id": "a1892a28-16ef-4f27-a7af-95ac0850f4db",
   "metadata": {},
   "outputs": [
    {
     "name": "stdout",
     "output_type": "stream",
     "text": [
      "Average refill rates for male patients:\n",
      "Received_DP      1.000000\n",
      "Refill1month     0.476441\n",
      "Refill2months    0.276756\n",
      "Refill3months    0.180242\n",
      "Refill6months    0.066912\n",
      "dtype: float64\n",
      "Received_DP      5709\n",
      "Refill1month     2720\n",
      "Refill2months    1580\n",
      "Refill3months    1029\n",
      "Refill6months     382\n",
      "dtype: int64\n"
     ]
    }
   ],
   "source": [
    "# Filtering the data set only to have those who received counselling\n",
    "males_df = df[df['Gender'] == 'M']\n",
    "\n",
    "# Total number of patients at each refill stage\n",
    "Patients_M = males_df[columns_to_average].sum()\n",
    "\n",
    "# Average refill rates for patients who received counselling\n",
    "Average_Refill_Rates_M = males_df[columns_to_average].mean()\n",
    "\n",
    "print(\"Average refill rates for male patients:\")\n",
    "print(Average_Refill_Rates_M)\n",
    "print(Patients_M)\n",
    "\n",
    "# plotting a Bar graph to give a better understanding of continuation rates\n",
    "plt.figure(figsize=(10, 6))\n",
    "Average_Refill_Rates_M.plot(kind='bar', color=['lightgreen','skyblue', 'orange', 'lightcoral', 'crimson'])\n",
    "plt.title('Continuation Rates Over Time for All Patients', fontsize=16)\n",
    "plt.xlabel('Refill Period', fontsize=14)\n",
    "plt.ylabel('Average Refill Rate', fontsize=14)\n",
    "plt.xticks(rotation=0)\n",
    "plt.grid(axis='y', linestyle='--', alpha=0.7)\n",
    "plt.show()"
   ]
  },
  {
   "cell_type": "markdown",
   "id": "de041cb4-86cf-45b2-90bf-14bb1e133789",
   "metadata": {},
   "source": [
    "#### Females"
   ]
  },
  {
   "cell_type": "code",
   "execution_count": 52,
   "id": "5a717288-f166-4e91-ba71-6c30150bf5df",
   "metadata": {},
   "outputs": [
    {
     "name": "stdout",
     "output_type": "stream",
     "text": [
      "Average refill rates for female patients:\n",
      "Received_DP      1.000000\n",
      "Refill1month     0.479459\n",
      "Refill2months    0.277399\n",
      "Refill3months    0.179409\n",
      "Refill6months    0.065905\n",
      "dtype: float64\n",
      "Received_DP      16114\n",
      "Refill1month      7726\n",
      "Refill2months     4470\n",
      "Refill3months     2891\n",
      "Refill6months     1062\n",
      "dtype: int64\n"
     ]
    }
   ],
   "source": [
    "# Filtering the data set only to have those who received counselling\n",
    "females_df = df[df['Gender'] == 'F']\n",
    "\n",
    "# Total number of patients at each refill stage\n",
    "Patients_F = females_df[columns_to_average].sum()\n",
    "\n",
    "# Average refill rates for patients who received counselling\n",
    "Average_Refill_Rates_F = females_df[columns_to_average].mean()\n",
    "\n",
    "print(\"Average refill rates for female patients:\")\n",
    "print(Average_Refill_Rates_F)\n",
    "print(Patients_F)"
   ]
  },
  {
   "cell_type": "code",
   "execution_count": null,
   "id": "8d9468cd-61b1-4dc3-9cc7-2efcc1c35237",
   "metadata": {},
   "outputs": [],
   "source": []
  }
 ],
 "metadata": {
  "kernelspec": {
   "display_name": "Python 3 (ipykernel)",
   "language": "python",
   "name": "python3"
  },
  "language_info": {
   "codemirror_mode": {
    "name": "ipython",
    "version": 3
   },
   "file_extension": ".py",
   "mimetype": "text/x-python",
   "name": "python",
   "nbconvert_exporter": "python",
   "pygments_lexer": "ipython3",
   "version": "3.12.7"
  }
 },
 "nbformat": 4,
 "nbformat_minor": 5
}
